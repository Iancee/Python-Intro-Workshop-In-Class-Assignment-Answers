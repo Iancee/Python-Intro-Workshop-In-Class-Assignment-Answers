{
 "cells": [
  {
   "cell_type": "markdown",
   "metadata": {},
   "source": [
    "# Numbers \n",
    "Write some code to practice manipulating numbers in python"
   ]
  },
  {
   "cell_type": "code",
   "execution_count": null,
   "metadata": {},
   "outputs": [],
   "source": [
    "#Write some code to create a variable and add it to x.  Then create another variable to save the result to and print\n",
    "x = 7\n",
    "y = 1\n",
    "z = x + y\n",
    "print(z)\n",
    "\n",
    "\n"
   ]
  },
  {
   "cell_type": "code",
   "execution_count": null,
   "metadata": {},
   "outputs": [],
   "source": [
    "#Write some code to create variables to add 5 to a and print the result\n",
    "a = '3'\n",
    "a1 = int(a) + 5\n",
    "print(a1)\n"
   ]
  },
  {
   "cell_type": "code",
   "execution_count": null,
   "metadata": {},
   "outputs": [],
   "source": [
    "#Write some code to compare x and y to print True and False\n",
    "x = 9\n",
    "y = 4\n",
    "\n",
    "print(x == y)\n",
    "print(x != y)"
   ]
  },
  {
   "cell_type": "code",
   "execution_count": null,
   "metadata": {},
   "outputs": [],
   "source": [
    "#What do you think this will print\n",
    "x = 1\n",
    "print(x == True)\n",
    "y = 0\n",
    "print(y == False)"
   ]
  },
  {
   "cell_type": "markdown",
   "metadata": {},
   "source": [
    "# Strings\n",
    "Let's practice creating and manipulating strings\n",
    "\n",
    "Link to string documentation\n",
    "https://docs.python.org/3/library/stdtypes.html#text-sequence-type-str"
   ]
  },
  {
   "cell_type": "code",
   "execution_count": null,
   "metadata": {},
   "outputs": [],
   "source": [
    "#Create two string variables and add them together.  Save the result to a third variable and print it\n",
    "x = 'I like '\n",
    "y = 'coffee and doughnuts'\n",
    "z = x + y\n",
    "print(z)"
   ]
  },
  {
   "cell_type": "code",
   "execution_count": null,
   "metadata": {},
   "outputs": [],
   "source": [
    "#Go to the python documentation page on strings and find an interesting string method that we haven't used yet.\n",
    "#Write some code that manipulates one of your string variables\n",
    "word = 'UPPER CASE WORD'\n",
    "\n",
    "word.title()\n",
    "\n",
    "\n"
   ]
  },
  {
   "cell_type": "code",
   "execution_count": null,
   "metadata": {},
   "outputs": [],
   "source": [
    "#Create a string variable that has special characters in it and print it\n",
    "\n",
    "\n",
    "\n"
   ]
  },
  {
   "cell_type": "code",
   "execution_count": null,
   "metadata": {},
   "outputs": [],
   "source": [
    "#Write some code that accesses a portion of the string above and save it to another variable\n",
    "#Print the result\n",
    "y = 'afile.pdf'\n",
    "filename = y[:-4]\n",
    "\n",
    "print(filename)"
   ]
  },
  {
   "cell_type": "markdown",
   "metadata": {},
   "source": [
    "# Lists\n",
    "Let's practice using and manipulating lists"
   ]
  },
  {
   "cell_type": "code",
   "execution_count": null,
   "metadata": {},
   "outputs": [],
   "source": [
    "#Write some code to manipulate the list below\n",
    "#Try adding some new elements, removing an element, and printing a specific element in the list\n",
    "practice_list = [4, 13, 10]\n",
    "\n",
    "print(practice_list)\n",
    "practice_list.insert(2, 7)\n",
    "print(practice_list)\n",
    "practice_list.pop()\n",
    "print(practice_list)\n",
    "print('one item', practice_list[2])\n",
    "\n"
   ]
  },
  {
   "cell_type": "code",
   "execution_count": null,
   "metadata": {},
   "outputs": [],
   "source": [
    "#Create a list containing the tuples below\n",
    "tupl1 = ('California Academy of Sciences', -122.466538, 37.770135)\n",
    "tupl2 = ('de Young Museum', -122.468294, 37.771220)\n",
    "\n",
    "tupl_list = [tupl1, tupl2]\n",
    "\n",
    "print(tupl_list)"
   ]
  },
  {
   "cell_type": "code",
   "execution_count": null,
   "metadata": {},
   "outputs": [],
   "source": [
    "#Write some code to print the length of the list above\n",
    "print('the list has {} items'.format(len(tupl_list)))\n",
    "\n"
   ]
  },
  {
   "cell_type": "markdown",
   "metadata": {},
   "source": [
    "# Dictionaries\n",
    "Let's try creating a dictionary and making some changes to it\n",
    "\n",
    "Python documentation for dictionaries\n",
    "https://docs.python.org/3/tutorial/datastructures.html?highlight=dictionary#dictionaries"
   ]
  },
  {
   "cell_type": "code",
   "execution_count": null,
   "metadata": {},
   "outputs": [],
   "source": [
    "#Another way to create a dictionary is using the dict and zip functions.  \n",
    "#It combines a list of keys and a list of values into a dictionary.\n",
    "#Create two list variables below\n",
    "thing1 = ['color1', 'color2', 'color3']\n",
    "thing2 = ['red', 'yellow', 'blue']\n"
   ]
  },
  {
   "cell_type": "code",
   "execution_count": null,
   "metadata": {},
   "outputs": [],
   "source": [
    "#Adjust the code below to replace thing1 and thing2 with your list variables\n",
    "dictvar = dict(zip(thing1, thing2))\n",
    "print(dictvar)"
   ]
  },
  {
   "cell_type": "code",
   "execution_count": null,
   "metadata": {},
   "outputs": [],
   "source": [
    "#Write some code to print only one of the values in your dictionary\n",
    "print(dictvar['color3'])\n",
    "\n"
   ]
  },
  {
   "cell_type": "code",
   "execution_count": null,
   "metadata": {},
   "outputs": [],
   "source": [
    "print(dictvar.values())"
   ]
  }
 ],
 "metadata": {
  "kernelspec": {
   "display_name": "Python 3",
   "language": "python",
   "name": "python3"
  },
  "language_info": {
   "codemirror_mode": {
    "name": "ipython",
    "version": 3
   },
   "file_extension": ".py",
   "mimetype": "text/x-python",
   "name": "python",
   "nbconvert_exporter": "python",
   "pygments_lexer": "ipython3",
   "version": "3.7.10"
  }
 },
 "nbformat": 4,
 "nbformat_minor": 2
}
