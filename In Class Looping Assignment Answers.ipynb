{
 "cells": [
  {
   "cell_type": "code",
   "execution_count": null,
   "metadata": {},
   "outputs": [],
   "source": [
    "#1\n",
    "#Write some code to loop through the list below and print the words in the list\n",
    "\n",
    "cities = ['San Francisco', 'Daly City', 'Oakland', 'Berkeley', 'Albany', 'San Anselmo']\n",
    "\n",
    "for city in cities:\n",
    "    print(city)\n",
    "\n"
   ]
  },
  {
   "cell_type": "code",
   "execution_count": null,
   "metadata": {},
   "outputs": [],
   "source": [
    "#2\n",
    "#Copy the code from the above cell into this cell\n",
    "#Add some code to only print cities that start with S or end in y\n",
    "\n",
    "cities = ['San Francisco', 'Daly City', 'Oakland', 'Berkeley', 'Albany', 'San Anselmo']\n",
    "\n",
    "for city in cities:\n",
    "    if city[0] == 'S' or city[-1] == 'y':\n",
    "        print(city)\n",
    "\n",
    "\n"
   ]
  },
  {
   "cell_type": "code",
   "execution_count": null,
   "metadata": {},
   "outputs": [],
   "source": [
    "#3\n",
    "#Write some code to loop through the below list\n",
    "#add all the elements in the list together and save it into a variable, then print it\n",
    "\n",
    "numbers = [7, 3.5, '6', 42, '9.65']\n",
    "\n",
    "sum = 0\n",
    "\n",
    "for num in numbers:\n",
    "    if type(num) == int or type(num) == float:\n",
    "        sum += num\n",
    "    elif type(num) == str and '.' in num:\n",
    "        sum += float(num)\n",
    "    else:\n",
    "        sum += int(num)\n",
    "        \n",
    "print(sum)\n"
   ]
  },
  {
   "cell_type": "code",
   "execution_count": null,
   "metadata": {},
   "outputs": [],
   "source": [
    "#Another way\n",
    "total = 0\n",
    "\n",
    "for num in numbers:\n",
    "    if type(num) == str:\n",
    "        total += float(num)\n",
    "    else:\n",
    "        total += num\n",
    "        \n",
    "print(total)    "
   ]
  },
  {
   "cell_type": "code",
   "execution_count": null,
   "metadata": {},
   "outputs": [],
   "source": [
    "#4\n",
    "#Write some code to print all the matching words in the two lists\n",
    "\n",
    "list1 = [1, 'These', 7, 'are', 8, 'all', 10, 'the', 14, 2, 'matching', 'words']\n",
    "\n",
    "list2 = ['are', 6, 'These', 5, 'the', 2, 1, 'matching', 9, 'words', 24]\n",
    "\n",
    "for x in list1:\n",
    "    for y in list2:\n",
    "        if x == y and type(x) == str and type(y) == str:\n",
    "            print(x)\n",
    "\n",
    "\n"
   ]
  },
  {
   "cell_type": "code",
   "execution_count": null,
   "metadata": {},
   "outputs": [],
   "source": [
    "#5\n",
    "#Write some code to collect all the words in the below lists that match\n",
    "#Combine the words into a sentance and print it\n",
    "list1 = [1, 'These', 7, 'are', 8, 'all', 10, 'the', 14, 2, 'matching', 'words']\n",
    "\n",
    "list2 = ['are', 6, 'These', 5, 'the', 2, 1, 'matching', 9, 'words', 24]\n",
    "\n",
    "combine_string = ''\n",
    "\n",
    "for x in list1:\n",
    "    for y in list2:\n",
    "        if x == y and type(x) == str and type(y) == str:\n",
    "            combine_string = combine_string + ' ' + x\n",
    "\n",
    "print(combine_string)\n"
   ]
  },
  {
   "cell_type": "code",
   "execution_count": null,
   "metadata": {},
   "outputs": [],
   "source": [
    "#6\n",
    "#Using the arcpy library and some GIS data, write some code to print all the shapefiles in a folder\n",
    "#or all the feature classes in a geodatabase\n",
    "\n",
    "\n",
    "\n"
   ]
  },
  {
   "cell_type": "code",
   "execution_count": null,
   "metadata": {},
   "outputs": [],
   "source": [
    "#7\n",
    "#Write some code to create a while loop that iterates 100 times and prints every ten times\n",
    "\n",
    "x = 1\n",
    "\n",
    "while x <= 100:\n",
    "    if x % 10 == 0:\n",
    "        print(x)\n",
    "    x += 1"
   ]
  },
  {
   "cell_type": "code",
   "execution_count": null,
   "metadata": {},
   "outputs": [],
   "source": []
  }
 ],
 "metadata": {
  "kernelspec": {
   "display_name": "Python 3",
   "language": "python",
   "name": "python3"
  },
  "language_info": {
   "codemirror_mode": {
    "name": "ipython",
    "version": 3
   },
   "file_extension": ".py",
   "mimetype": "text/x-python",
   "name": "python",
   "nbconvert_exporter": "python",
   "pygments_lexer": "ipython3",
   "version": "3.7.9"
  }
 },
 "nbformat": 4,
 "nbformat_minor": 2
}
