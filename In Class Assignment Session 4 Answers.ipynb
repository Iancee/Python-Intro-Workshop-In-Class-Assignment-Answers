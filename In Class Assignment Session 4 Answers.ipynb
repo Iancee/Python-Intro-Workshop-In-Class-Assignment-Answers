{
 "cells": [
  {
   "cell_type": "code",
   "execution_count": null,
   "metadata": {},
   "outputs": [],
   "source": [
    "#The goal of this problem is to create a list of dictionaries that contain the address information in the below list.\n",
    "#Write some code to iterate through the list and save each address into a dictionary\n",
    "#The dictionary should have keys for the building number, street name and street suffix\n",
    "#Hint... look up the string method .split() to help with this\n",
    "\n",
    "addr_list = ['1 Dr Carlton B Goodlett Pl', '100 John F Kennedy Dr', '3601 Lyon St', '1 Telegraph Hill Blvd']\n",
    "\n",
    "addr_dict_list = []\n",
    "\n",
    "for addr in addr_list:\n",
    "    print(addr.split())\n",
    "    building_num = addr.split()[0]\n",
    "    print(building_num)\n",
    "    street_name = ''\n",
    "    street_list = addr.split()[1:-1]\n",
    "    for word in street_list:\n",
    "        street_name += word + ' '\n",
    "    print(street_name)\n",
    "    street_sufx = addr.split()[-1]\n",
    "    print(street_sufx)\n",
    "    \n",
    "    val_list = [building_num, street_name.strip(), street_sufx]\n",
    "    key_list = ['Building_Number', 'Street_Name', 'Street_Suffix']\n",
    "    \n",
    "    addr_dict = dict(zip(key_list, val_list))\n",
    "    #print(addr_dict)\n",
    "    addr_dict_list.append(addr_dict)\n",
    "    \n",
    "print(addr_dict_list)"
   ]
  },
  {
   "cell_type": "code",
   "execution_count": null,
   "metadata": {},
   "outputs": [],
   "source": [
    "#Another method\n",
    "addr_list = ['1 Dr Carlton B Goodlett Pl', '100 John F Kennedy Dr', '3601 Lyon St', '1 Telegraph Hill Blvd']\n",
    "\n",
    "keys = ['Build_num', 'Street', 'St_sufx']\n",
    "\n",
    "dict_list = []\n",
    "\n",
    "for addr in addr_list:\n",
    "    print(addr.split())\n",
    "    split_addr = addr.split()\n",
    "    buildnum = split_addr[0]\n",
    "    streetnm = ' '.join(split_addr[1:-1])\n",
    "    #print(streetnm)\n",
    "    stsufx = split_addr[-1]\n",
    "    val_list = [buildnum, streetnm, stsufx]\n",
    "    #print(val_list)\n",
    "    temp_dict = dict(zip(keys, val_list))\n",
    "    #print(temp_dict)\n",
    "    dict_list.append(temp_dict)\n",
    "\n",
    "#print(dict_list)\n",
    "for d in dict_list:\n",
    "    print(d)"
   ]
  },
  {
   "cell_type": "code",
   "execution_count": null,
   "metadata": {},
   "outputs": [],
   "source": [
    "#Write some code to identify bars in SF that have pizza restaurants within 250ft.\n",
    "#Hint... use dba_name in the SF_Businesses.shp to identify the businesses, then compare spatially\n",
    "\n",
    "import arcpy\n",
    "import os\n",
    "\n",
    "#Overall businesses shapefile and output folder location\n",
    "business_shp = r\"C:\\Users\\ian.conroy\\Desktop\\Bay Geo Classes\\Python Class\\GIS_Data\\SF_SHPs\\SF_Businesses.shp\"\n",
    "Output_Folder = r\"C:\\Users\\ian.conroy\\Desktop\\Bay Geo Classes\\Python Class\\Output_Folder\"\n",
    "\n",
    "#Create feature layer and select by attribute to isolate businesses of interest\n",
    "business_lyr = arcpy.MakeFeatureLayer_management(business_shp)\n",
    "\n",
    "#Select bars and export as new shp\n",
    "print('Creating Bar shapefile')\n",
    "arcpy.SelectLayerByAttribute_management(business_lyr, \"NEW_SELECTION\", \"dba_name LIKE '%Bar %' Or dba_name LIKE '%Tavern%'\")\n",
    "arcpy.FeatureClassToFeatureClass_conversion(business_lyr, Output_Folder, \"SF_Bars\")\n",
    "\n",
    "#Select Pizza restaurants and export as new shp\n",
    "print('Creating Pizza Spot shapefile')\n",
    "arcpy.SelectLayerByAttribute_management(business_lyr, \"NEW_SELECTION\", \"dba_name LIKE '%Pizza %' Or dba_name LIKE '%Pizzeria%'\")\n",
    "arcpy.FeatureClassToFeatureClass_conversion(business_lyr, Output_Folder, \"SF_Pizza_Spots\")\n",
    "\n",
    "#Select Bars within 250 feet of a pizza place and export as a new shp\n",
    "Bars_lyr = arcpy.MakeFeatureLayer_management(os.path.join(Output_Folder, 'SF_Bars.shp'))\n",
    "Pizza_Place_lyr = arcpy.MakeFeatureLayer_management(os.path.join(Output_Folder, 'SF_Pizza_Spots.shp'))\n",
    "arcpy.SelectLayerByLocation_management(Bars_lyr, \"WITHIN_A_DISTANCE\", Pizza_Place_lyr, \"250 FEET\")\n",
    "arcpy.FeatureClassToFeatureClass_conversion(Bars_lyr, Output_Folder, \"SF_Bars_Near_Pizza_Spots\")\n"
   ]
  },
  {
   "cell_type": "code",
   "execution_count": null,
   "metadata": {},
   "outputs": [],
   "source": []
  }
 ],
 "metadata": {
  "kernelspec": {
   "display_name": "Python 3",
   "language": "python",
   "name": "python3"
  },
  "language_info": {
   "codemirror_mode": {
    "name": "ipython",
    "version": 3
   },
   "file_extension": ".py",
   "mimetype": "text/x-python",
   "name": "python",
   "nbconvert_exporter": "python",
   "pygments_lexer": "ipython3",
   "version": "3.7.10"
  }
 },
 "nbformat": 4,
 "nbformat_minor": 2
}
